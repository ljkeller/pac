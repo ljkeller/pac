{
 "cells": [
  {
   "cell_type": "code",
   "execution_count": 48,
   "id": "abb92d75",
   "metadata": {},
   "outputs": [
    {
     "name": "stdout",
     "output_type": "stream",
     "text": [
      "Torch cuda enabled: True\n"
     ]
    }
   ],
   "source": [
    "import os\n",
    "\n",
    "import pandas as pd\n",
    "import torch\n",
    "from torch.utils.data import Dataset, DataLoader\n",
    "\n",
    "print(f'Torch cuda enabled: {torch.cuda.is_available()}')"
   ]
  },
  {
   "cell_type": "code",
   "execution_count": 49,
   "id": "3c3cd5b4",
   "metadata": {},
   "outputs": [],
   "source": [
    "# Return a list of tuples like:\n",
    "# [([fold_1_training_data_paths], [fold_1_test_data_paths]),\n",
    "#  ([fold_2_training_data_paths], [fold_2_test_data_paths]),\n",
    "#  ...\n",
    "#  ([fold_10_training_data_paths], [fold_10_test_data_paths]),\n",
    "# ]\n",
    "def k_fold_urban_sound(metadata_path):\n",
    "    \"\"\"\n",
    "    Extract the 10 recommended folds of UrbanSound8K\n",
    "    \n",
    "    Returns:\n",
    "        a list of folds in the form:\n",
    "    [([fold_1_training_data_paths], [fold_1_test_data_paths]),\n",
    "     ([fold_2_training_data_paths], [fold_2_test_data_paths]),\n",
    "     ...\n",
    "     ([fold_10_training_data_paths], [fold_10_test_data_paths]),\n",
    "    ]\n",
    "        \n",
    "    \"\"\"\n",
    "    folds = []\n",
    "    frame = pd.read_csv(metadata_path)\n",
    "    frame.info()\n",
    "    \n",
    "    print(\"\\nSummarizing folds:\")\n",
    "    print('-----------------------------------------------------------')\n",
    "    for i in range(1,11):\n",
    "        train_mask = frame['fold'] != i\n",
    "        test_mask = frame['fold'] == i\n",
    "        print(f'Training set size for fold {i} : {len(frame[train_mask])}')\n",
    "        print(f'Test set size for fold {i} : {len(frame[test_mask])}')\n",
    "        print('-----------------------------------------------------------')\n",
    "    \n",
    "    return folds"
   ]
  },
  {
   "cell_type": "code",
   "execution_count": 50,
   "id": "e3adf8f2",
   "metadata": {},
   "outputs": [],
   "source": [
    "class UrbanSoundDataSet(Dataset):\n",
    "    def __init__(self, path, fold):\n",
    "        raise NotImplementedError\n",
    "    def __getitem__(self, x):\n",
    "        raise NotImplementedError\n",
    "    def __len__(self):\n",
    "        raise NotImplementedError"
   ]
  },
  {
   "cell_type": "code",
   "execution_count": 51,
   "id": "5f68ef33",
   "metadata": {},
   "outputs": [
    {
     "name": "stdout",
     "output_type": "stream",
     "text": [
      "<class 'pandas.core.frame.DataFrame'>\n",
      "RangeIndex: 8732 entries, 0 to 8731\n",
      "Data columns (total 8 columns):\n",
      " #   Column           Non-Null Count  Dtype  \n",
      "---  ------           --------------  -----  \n",
      " 0   slice_file_name  8732 non-null   object \n",
      " 1   fsID             8732 non-null   int64  \n",
      " 2   start            8732 non-null   float64\n",
      " 3   end              8732 non-null   float64\n",
      " 4   salience         8732 non-null   int64  \n",
      " 5   fold             8732 non-null   int64  \n",
      " 6   classID          8732 non-null   int64  \n",
      " 7   class            8732 non-null   object \n",
      "dtypes: float64(2), int64(4), object(2)\n",
      "memory usage: 545.9+ KB\n",
      "\n",
      "Summarizing folds:\n",
      "-----------------------------------------------------------\n",
      "Training set size for fold 1 : 7859\n",
      "Test set size for fold 1 : 873\n",
      "-----------------------------------------------------------\n",
      "Training set size for fold 2 : 7844\n",
      "Test set size for fold 2 : 888\n",
      "-----------------------------------------------------------\n",
      "Training set size for fold 3 : 7807\n",
      "Test set size for fold 3 : 925\n",
      "-----------------------------------------------------------\n",
      "Training set size for fold 4 : 7742\n",
      "Test set size for fold 4 : 990\n",
      "-----------------------------------------------------------\n",
      "Training set size for fold 5 : 7796\n",
      "Test set size for fold 5 : 936\n",
      "-----------------------------------------------------------\n",
      "Training set size for fold 6 : 7909\n",
      "Test set size for fold 6 : 823\n",
      "-----------------------------------------------------------\n",
      "Training set size for fold 7 : 7894\n",
      "Test set size for fold 7 : 838\n",
      "-----------------------------------------------------------\n",
      "Training set size for fold 8 : 7926\n",
      "Test set size for fold 8 : 806\n",
      "-----------------------------------------------------------\n",
      "Training set size for fold 9 : 7916\n",
      "Test set size for fold 9 : 816\n",
      "-----------------------------------------------------------\n",
      "Training set size for fold 10 : 7895\n",
      "Test set size for fold 10 : 837\n",
      "-----------------------------------------------------------\n"
     ]
    },
    {
     "data": {
      "text/plain": [
       "[]"
      ]
     },
     "execution_count": 51,
     "metadata": {},
     "output_type": "execute_result"
    }
   ],
   "source": [
    "k_fold_urban_sound('~/sound_datasets/urbansound8k/metadata/UrbanSound8K.csv')"
   ]
  },
  {
   "cell_type": "code",
   "execution_count": null,
   "id": "f9d4749d",
   "metadata": {},
   "outputs": [],
   "source": []
  },
  {
   "cell_type": "code",
   "execution_count": null,
   "id": "37de2437",
   "metadata": {},
   "outputs": [],
   "source": []
  },
  {
   "cell_type": "code",
   "execution_count": null,
   "id": "572868aa",
   "metadata": {},
   "outputs": [],
   "source": []
  }
 ],
 "metadata": {
  "kernelspec": {
   "display_name": "Python 3 (ipykernel)",
   "language": "python",
   "name": "python3"
  },
  "language_info": {
   "codemirror_mode": {
    "name": "ipython",
    "version": 3
   },
   "file_extension": ".py",
   "mimetype": "text/x-python",
   "name": "python",
   "nbconvert_exporter": "python",
   "pygments_lexer": "ipython3",
   "version": "3.10.9"
  }
 },
 "nbformat": 4,
 "nbformat_minor": 5
}
