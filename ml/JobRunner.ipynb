{
 "cells": [
  {
   "cell_type": "markdown",
   "id": "9510a3df",
   "metadata": {},
   "source": [
    "# This file will prototype job processing for scheduling and utilization of hw\n",
    "\n"
   ]
  },
  {
   "cell_type": "code",
   "execution_count": 1,
   "id": "f93ce4e7",
   "metadata": {},
   "outputs": [],
   "source": [
    "from pathlib import Path\n",
    "import time\n",
    "\n",
    "import numexpr as ne\n",
    "import torch\n",
    "import yaml"
   ]
  },
  {
   "cell_type": "code",
   "execution_count": 2,
   "id": "88d36d3f",
   "metadata": {},
   "outputs": [],
   "source": [
    "jobs_path = Path('./jobs')\n",
    "\n",
    "def get_jobs(jobs_path):\n",
    "    # Jobs starting with _ are ignored, like the default job\n",
    "    return [f for f in jobs_path.iterdir() if f.is_file() and not f.name.startswith('_')]\n",
    "\n",
    "jobs = get_jobs(jobs_path)"
   ]
  },
  {
   "cell_type": "code",
   "execution_count": 3,
   "id": "580c337e",
   "metadata": {},
   "outputs": [
    {
     "name": "stdout",
     "output_type": "stream",
     "text": [
      "There is 1 job to process\n"
     ]
    }
   ],
   "source": [
    "if len(jobs) == 1:\n",
    "    print('There is {} job to process'.format(len(jobs)))\n",
    "else:\n",
    "    print('There are {} jobs to process'.format(len(jobs)))"
   ]
  },
  {
   "cell_type": "code",
   "execution_count": 4,
   "id": "ff28ce92",
   "metadata": {},
   "outputs": [],
   "source": [
    "class CustomNN(torch.nn.Module):\n",
    "    def __init__(self, name, sequential_arch):\n",
    "        super().__init__()\n",
    "        self.name = name\n",
    "        self.model = torch.nn.Sequential(*sequential_arch)\n",
    "    def forward(self, X):\n",
    "        return self.model(X)"
   ]
  },
  {
   "cell_type": "code",
   "execution_count": 5,
   "id": "7ffe8c99",
   "metadata": {},
   "outputs": [],
   "source": [
    "class TrainingJob():\n",
    "    def __init__(self, job_path):\n",
    "        self.path = job_path\n",
    "        self.job = None\n",
    "        self.start_time = 0.\n",
    "        self.layers = []\n",
    "    \n",
    "    def train(self):\n",
    "        raise NotImplementedError\n",
    "    \n",
    "    def get_new_model(self):\n",
    "        return CustomNN(self.model_name, self.layers)\n",
    "    \n",
    "        # Build sequential definition, then build CustomNN\n",
    "        \n",
    "    def __enter__(self):\n",
    "        self.start_time = time.time()\n",
    "        \n",
    "        with open(self.path, 'r') as f:\n",
    "            self.job = yaml.load(f, yaml.FullLoader)\n",
    "            \n",
    "        self._validate_job()\n",
    "        \n",
    "        return self\n",
    "            \n",
    "    def __exit__(self, exc_type, exc_value, traceback):\n",
    "        self.end_time = time.time()\n",
    "        \n",
    "        # todo: 'process' failed job by moving metadata over, logging traceback\n",
    "        print('Job duration: {:.2f} seconds'.format(self.end_time-self.start_time))\n",
    "        \n",
    "        if exc_type is not None:\n",
    "            self._failure_processing()\n",
    "        \n",
    "        return False\n",
    "    \n",
    "    def __evaluate_expression(self, value):\n",
    "        try: \n",
    "            if isinstance(value, str) and any(op in value for op in ['+', '-', '*', '/']):\n",
    "                return ne.evaluate(value).item()\n",
    "            else:\n",
    "                return value\n",
    "        except Exception as e:\n",
    "            raise ValueError('Failed to evaluate expression {}. {}'.format(value, e))\n",
    "    \n",
    "    def _validate_job(self):\n",
    "        assert 'model' in self.job\n",
    "        self.model_name = self.job['model']['name']\n",
    "        \n",
    "        for layer in self.job['model']['architecture']:\n",
    "            cls = getattr(torch.nn, layer['layer_type'])\n",
    "            layer_params = {key: self.__evaluate_expression(value) for key, value in layer.items() if key != 'layer_type'}\n",
    "            self.layers.append(cls(**layer_params))\n",
    "        \n",
    "        assert 'ml_parameters' in self.job\n",
    "        assert 'audio_parameters' in self.job\n",
    "        assert 'job_parameters' in self.job\n",
    "        \n",
    "    def _failure_processing(self):\n",
    "        raise notImplementedError"
   ]
  },
  {
   "cell_type": "code",
   "execution_count": 6,
   "id": "54e0666b",
   "metadata": {},
   "outputs": [
    {
     "name": "stdout",
     "output_type": "stream",
     "text": [
      "Processing: sample_cnn_1.yaml\n",
      "CustomNN(\n",
      "  (model): Sequential(\n",
      "    (0): Conv2d(3, 60, kernel_size=(5, 5), stride=(1, 1))\n",
      "    (1): BatchNorm2d(60, eps=1e-05, momentum=0.1, affine=True, track_running_stats=True)\n",
      "    (2): MaxPool2d(kernel_size=2, stride=2, padding=0, dilation=1, ceil_mode=False)\n",
      "    (3): ReLU()\n",
      "    (4): Conv2d(60, 120, kernel_size=(5, 5), stride=(1, 1))\n",
      "    (5): BatchNorm2d(120, eps=1e-05, momentum=0.1, affine=True, track_running_stats=True)\n",
      "    (6): MaxPool2d(kernel_size=2, stride=2, padding=0, dilation=1, ceil_mode=False)\n",
      "    (7): ReLU()\n",
      "    (8): Flatten(start_dim=1, end_dim=-1)\n",
      "    (9): Dropout(p=0.5, inplace=False)\n",
      "    (10): Linear(in_features=57600, out_features=256, bias=True)\n",
      "    (11): ReLU()\n",
      "    (12): Dropout(p=0.5, inplace=False)\n",
      "    (13): Linear(in_features=256, out_features=10, bias=True)\n",
      "    (14): Softmax(dim=1)\n",
      "  )\n",
      ")\n",
      "Job duration: 0.08 seconds\n"
     ]
    }
   ],
   "source": [
    "for job_path in jobs:\n",
    "    with TrainingJob(job_path) as job:\n",
    "        print('Processing: {}'.format(job.path.name))\n",
    "        model = job.get_new_model()\n",
    "        print(model)"
   ]
  },
  {
   "cell_type": "code",
   "execution_count": null,
   "id": "7b4487fb",
   "metadata": {},
   "outputs": [],
   "source": []
  },
  {
   "cell_type": "code",
   "execution_count": null,
   "id": "e8351c3a",
   "metadata": {},
   "outputs": [],
   "source": []
  }
 ],
 "metadata": {
  "kernelspec": {
   "display_name": "Python 3 (ipykernel)",
   "language": "python",
   "name": "python3"
  },
  "language_info": {
   "codemirror_mode": {
    "name": "ipython",
    "version": 3
   },
   "file_extension": ".py",
   "mimetype": "text/x-python",
   "name": "python",
   "nbconvert_exporter": "python",
   "pygments_lexer": "ipython3",
   "version": "3.10.9"
  }
 },
 "nbformat": 4,
 "nbformat_minor": 5
}
